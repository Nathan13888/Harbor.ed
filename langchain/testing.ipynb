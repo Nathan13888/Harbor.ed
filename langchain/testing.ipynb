{
 "cells": [
  {
   "attachments": {},
   "cell_type": "markdown",
   "id": "681a5d1e",
   "metadata": {},
   "source": [
    "pwd\n",
    "source ./setup-exports.sh"
   ]
  },
  {
   "cell_type": "code",
   "execution_count": null,
   "id": "c1d3192f",
   "metadata": {},
   "outputs": [],
   "source": [
    "from langserve.client import RemoteRunnable\n",
    "docs = [\n",
    "    \"https://arxiv.org/pdf/2303.08774.pdf\",\n",
    "]\n",
    "\n",
    "\n",
    "# iterate through all documents, and query /ingest\n",
    "for doc in docs:\n",
    "    ingest_endpoint = RemoteRunnable(\"http://0.0.0.0:8000/ingest\")\n",
    "    ingest_endpoint.invoke(doc)"
   ]
  },
  {
   "cell_type": "code",
   "execution_count": null,
   "id": "d774be2a",
   "metadata": {},
   "outputs": [],
   "source": [
    "from langserve.client import RemoteRunnable\n",
    "\n",
    "rag_app_pinecone = RemoteRunnable(\"http://0.0.0.0:8000/endpoint\")\n",
    "rag_app_pinecone.invoke(\"How does agent memory work?\")"
   ]
  },
  {
   "cell_type": "code",
   "execution_count": null,
   "id": "0da382a4",
   "metadata": {},
   "outputs": [],
   "source": [
    "from langserve.client import RemoteRunnable\n",
    "\n",
    "rag_app_pinecone = RemoteRunnable(\"http://0.0.0.0:8000/query\")\n",
    "rag_app_pinecone.invoke(\"How does agent memory work?\")"
   ]
  }
 ],
 "metadata": {
  "kernelspec": {
   "display_name": "Python 3 (ipykernel)",
   "language": "python",
   "name": "python3"
  },
  "language_info": {
   "codemirror_mode": {
    "name": "ipython",
    "version": 3
   },
   "file_extension": ".py",
   "mimetype": "text/x-python",
   "name": "python",
   "nbconvert_exporter": "python",
   "pygments_lexer": "ipython3",
   "version": "3.9.18"
  }
 },
 "nbformat": 4,
 "nbformat_minor": 5
}
