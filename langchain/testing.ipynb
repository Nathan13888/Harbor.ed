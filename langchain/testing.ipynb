{
 "cells": [
  {
   "attachments": {},
   "cell_type": "markdown",
   "id": "681a5d1e",
   "metadata": {},
   "source": [
    "pwd\n",
    "source ./setup-exports.sh"
   ]
  },
  {
   "cell_type": "code",
   "execution_count": 1,
   "id": "c1d3192f",
   "metadata": {},
   "outputs": [
    {
     "ename": "HTTPStatusError",
     "evalue": "Server error '500 Internal Server Error' for url 'http://0.0.0.0:8000/ingest/invoke'\nFor more information check: https://httpstatuses.com/500 for Internal Server Error",
     "output_type": "error",
     "traceback": [
      "\u001b[0;31m---------------------------------------------------------------------------\u001b[0m",
      "\u001b[0;31mHTTPStatusError\u001b[0m                           Traceback (most recent call last)",
      "File \u001b[0;32m~/ws/HW10/langchain/.mamba/envs/langchain/lib/python3.11/site-packages/langserve/client.py:96\u001b[0m, in \u001b[0;36m_raise_for_status\u001b[0;34m(response)\u001b[0m\n\u001b[1;32m     95\u001b[0m \u001b[39mtry\u001b[39;00m:\n\u001b[0;32m---> 96\u001b[0m     response\u001b[39m.\u001b[39;49mraise_for_status()\n\u001b[1;32m     97\u001b[0m \u001b[39mexcept\u001b[39;00m httpx\u001b[39m.\u001b[39mHTTPStatusError \u001b[39mas\u001b[39;00m e:\n",
      "File \u001b[0;32m~/ws/HW10/langchain/.mamba/envs/langchain/lib/python3.11/site-packages/httpx/_models.py:749\u001b[0m, in \u001b[0;36mResponse.raise_for_status\u001b[0;34m(self)\u001b[0m\n\u001b[1;32m    748\u001b[0m message \u001b[39m=\u001b[39m message\u001b[39m.\u001b[39mformat(\u001b[39mself\u001b[39m, error_type\u001b[39m=\u001b[39merror_type)\n\u001b[0;32m--> 749\u001b[0m \u001b[39mraise\u001b[39;00m HTTPStatusError(message, request\u001b[39m=\u001b[39mrequest, response\u001b[39m=\u001b[39m\u001b[39mself\u001b[39m)\n",
      "\u001b[0;31mHTTPStatusError\u001b[0m: Server error '500 Internal Server Error' for url 'http://0.0.0.0:8000/ingest/invoke'\nFor more information check: https://httpstatuses.com/500",
      "\nDuring handling of the above exception, another exception occurred:\n",
      "\u001b[0;31mHTTPStatusError\u001b[0m                           Traceback (most recent call last)",
      "\u001b[1;32m/home/attackercow/ws/HW10/langchain/testing.ipynb Cell 2\u001b[0m line \u001b[0;36m1\n\u001b[1;32m      <a href='vscode-notebook-cell:/home/attackercow/ws/HW10/langchain/testing.ipynb#W1sZmlsZQ%3D%3D?line=8'>9</a>\u001b[0m \u001b[39mfor\u001b[39;00m doc \u001b[39min\u001b[39;00m docs:\n\u001b[1;32m     <a href='vscode-notebook-cell:/home/attackercow/ws/HW10/langchain/testing.ipynb#W1sZmlsZQ%3D%3D?line=9'>10</a>\u001b[0m     ingest_endpoint \u001b[39m=\u001b[39m RemoteRunnable(\u001b[39m\"\u001b[39m\u001b[39mhttp://0.0.0.0:8000/ingest\u001b[39m\u001b[39m\"\u001b[39m)\n\u001b[0;32m---> <a href='vscode-notebook-cell:/home/attackercow/ws/HW10/langchain/testing.ipynb#W1sZmlsZQ%3D%3D?line=10'>11</a>\u001b[0m     ingest_endpoint\u001b[39m.\u001b[39;49minvoke(doc)\n",
      "File \u001b[0;32m~/ws/HW10/langchain/.mamba/envs/langchain/lib/python3.11/site-packages/langserve/client.py:294\u001b[0m, in \u001b[0;36mRemoteRunnable.invoke\u001b[0;34m(self, input, config, **kwargs)\u001b[0m\n\u001b[1;32m    292\u001b[0m \u001b[39mif\u001b[39;00m kwargs:\n\u001b[1;32m    293\u001b[0m     \u001b[39mraise\u001b[39;00m \u001b[39mNotImplementedError\u001b[39;00m(\u001b[39m\"\u001b[39m\u001b[39mkwargs not implemented yet.\u001b[39m\u001b[39m\"\u001b[39m)\n\u001b[0;32m--> 294\u001b[0m \u001b[39mreturn\u001b[39;00m \u001b[39mself\u001b[39;49m\u001b[39m.\u001b[39;49m_call_with_config(\u001b[39mself\u001b[39;49m\u001b[39m.\u001b[39;49m_invoke, \u001b[39minput\u001b[39;49m, config\u001b[39m=\u001b[39;49mconfig)\n",
      "File \u001b[0;32m~/ws/HW10/langchain/.mamba/envs/langchain/lib/python3.11/site-packages/langchain/schema/runnable/base.py:847\u001b[0m, in \u001b[0;36mRunnable._call_with_config\u001b[0;34m(self, func, input, config, run_type, **kwargs)\u001b[0m\n\u001b[1;32m    840\u001b[0m run_manager \u001b[39m=\u001b[39m callback_manager\u001b[39m.\u001b[39mon_chain_start(\n\u001b[1;32m    841\u001b[0m     dumpd(\u001b[39mself\u001b[39m),\n\u001b[1;32m    842\u001b[0m     \u001b[39minput\u001b[39m,\n\u001b[1;32m    843\u001b[0m     run_type\u001b[39m=\u001b[39mrun_type,\n\u001b[1;32m    844\u001b[0m     name\u001b[39m=\u001b[39mconfig\u001b[39m.\u001b[39mget(\u001b[39m\"\u001b[39m\u001b[39mrun_name\u001b[39m\u001b[39m\"\u001b[39m),\n\u001b[1;32m    845\u001b[0m )\n\u001b[1;32m    846\u001b[0m \u001b[39mtry\u001b[39;00m:\n\u001b[0;32m--> 847\u001b[0m     output \u001b[39m=\u001b[39m call_func_with_variable_args(\n\u001b[1;32m    848\u001b[0m         func, \u001b[39minput\u001b[39;49m, config, run_manager, \u001b[39m*\u001b[39;49m\u001b[39m*\u001b[39;49mkwargs\n\u001b[1;32m    849\u001b[0m     )\n\u001b[1;32m    850\u001b[0m \u001b[39mexcept\u001b[39;00m \u001b[39mBaseException\u001b[39;00m \u001b[39mas\u001b[39;00m e:\n\u001b[1;32m    851\u001b[0m     run_manager\u001b[39m.\u001b[39mon_chain_error(e)\n",
      "File \u001b[0;32m~/ws/HW10/langchain/.mamba/envs/langchain/lib/python3.11/site-packages/langchain/schema/runnable/config.py:308\u001b[0m, in \u001b[0;36mcall_func_with_variable_args\u001b[0;34m(func, input, config, run_manager, **kwargs)\u001b[0m\n\u001b[1;32m    306\u001b[0m \u001b[39mif\u001b[39;00m run_manager \u001b[39mis\u001b[39;00m \u001b[39mnot\u001b[39;00m \u001b[39mNone\u001b[39;00m \u001b[39mand\u001b[39;00m accepts_run_manager(func):\n\u001b[1;32m    307\u001b[0m     kwargs[\u001b[39m\"\u001b[39m\u001b[39mrun_manager\u001b[39m\u001b[39m\"\u001b[39m] \u001b[39m=\u001b[39m run_manager\n\u001b[0;32m--> 308\u001b[0m \u001b[39mreturn\u001b[39;00m func(\u001b[39minput\u001b[39;49m, \u001b[39m*\u001b[39;49m\u001b[39m*\u001b[39;49mkwargs)\n",
      "File \u001b[0;32m~/ws/HW10/langchain/.mamba/envs/langchain/lib/python3.11/site-packages/langserve/client.py:281\u001b[0m, in \u001b[0;36mRemoteRunnable._invoke\u001b[0;34m(self, input, run_manager, config, **kwargs)\u001b[0m\n\u001b[1;32m    272\u001b[0m \u001b[39m\u001b[39m\u001b[39m\"\"\"Invoke the runnable with the given input and config.\"\"\"\u001b[39;00m\n\u001b[1;32m    273\u001b[0m response \u001b[39m=\u001b[39m \u001b[39mself\u001b[39m\u001b[39m.\u001b[39msync_client\u001b[39m.\u001b[39mpost(\n\u001b[1;32m    274\u001b[0m     \u001b[39m\"\u001b[39m\u001b[39m/invoke\u001b[39m\u001b[39m\"\u001b[39m,\n\u001b[1;32m    275\u001b[0m     json\u001b[39m=\u001b[39m{\n\u001b[0;32m   (...)\u001b[0m\n\u001b[1;32m    279\u001b[0m     },\n\u001b[1;32m    280\u001b[0m )\n\u001b[0;32m--> 281\u001b[0m output, callback_events \u001b[39m=\u001b[39m _decode_response(\n\u001b[1;32m    282\u001b[0m     \u001b[39mself\u001b[39;49m\u001b[39m.\u001b[39;49m_lc_serializer, response, is_batch\u001b[39m=\u001b[39;49m\u001b[39mFalse\u001b[39;49;00m\n\u001b[1;32m    283\u001b[0m )\n\u001b[1;32m    285\u001b[0m \u001b[39mif\u001b[39;00m \u001b[39mself\u001b[39m\u001b[39m.\u001b[39m_use_server_callback_events \u001b[39mand\u001b[39;00m callback_events:\n\u001b[1;32m    286\u001b[0m     handle_callbacks(run_manager, callback_events)\n",
      "File \u001b[0;32m~/ws/HW10/langchain/.mamba/envs/langchain/lib/python3.11/site-packages/langserve/client.py:169\u001b[0m, in \u001b[0;36m_decode_response\u001b[0;34m(serializer, response, is_batch)\u001b[0m\n\u001b[1;32m    162\u001b[0m \u001b[39mdef\u001b[39;00m \u001b[39m_decode_response\u001b[39m(\n\u001b[1;32m    163\u001b[0m     serializer: Serializer,\n\u001b[1;32m    164\u001b[0m     response: httpx\u001b[39m.\u001b[39mResponse,\n\u001b[1;32m    165\u001b[0m     \u001b[39m*\u001b[39m,\n\u001b[1;32m    166\u001b[0m     is_batch: \u001b[39mbool\u001b[39m \u001b[39m=\u001b[39m \u001b[39mFalse\u001b[39;00m,\n\u001b[1;32m    167\u001b[0m ) \u001b[39m-\u001b[39m\u001b[39m>\u001b[39m Tuple[Any, Union[List[CallbackEventDict], List[List[CallbackEventDict]]]]:\n\u001b[1;32m    168\u001b[0m \u001b[39m    \u001b[39m\u001b[39m\"\"\"Decode the response.\"\"\"\u001b[39;00m\n\u001b[0;32m--> 169\u001b[0m     _raise_for_status(response)\n\u001b[1;32m    170\u001b[0m     obj \u001b[39m=\u001b[39m response\u001b[39m.\u001b[39mjson()\n\u001b[1;32m    171\u001b[0m     \u001b[39mif\u001b[39;00m \u001b[39mnot\u001b[39;00m \u001b[39misinstance\u001b[39m(obj, \u001b[39mdict\u001b[39m):\n",
      "File \u001b[0;32m~/ws/HW10/langchain/.mamba/envs/langchain/lib/python3.11/site-packages/langserve/client.py:104\u001b[0m, in \u001b[0;36m_raise_for_status\u001b[0;34m(response)\u001b[0m\n\u001b[1;32m    101\u001b[0m \u001b[39mif\u001b[39;00m e\u001b[39m.\u001b[39mresponse\u001b[39m.\u001b[39mtext:\n\u001b[1;32m    102\u001b[0m     message \u001b[39m+\u001b[39m\u001b[39m=\u001b[39m \u001b[39mf\u001b[39m\u001b[39m\"\u001b[39m\u001b[39m for \u001b[39m\u001b[39m{\u001b[39;00me\u001b[39m.\u001b[39mresponse\u001b[39m.\u001b[39mtext\u001b[39m}\u001b[39;00m\u001b[39m\"\u001b[39m\n\u001b[0;32m--> 104\u001b[0m \u001b[39mraise\u001b[39;00m httpx\u001b[39m.\u001b[39mHTTPStatusError(\n\u001b[1;32m    105\u001b[0m     message\u001b[39m=\u001b[39mmessage,\n\u001b[1;32m    106\u001b[0m     request\u001b[39m=\u001b[39m_sanitize_request(e\u001b[39m.\u001b[39mrequest),\n\u001b[1;32m    107\u001b[0m     response\u001b[39m=\u001b[39me\u001b[39m.\u001b[39mresponse,\n\u001b[1;32m    108\u001b[0m )\n",
      "\u001b[0;31mHTTPStatusError\u001b[0m: Server error '500 Internal Server Error' for url 'http://0.0.0.0:8000/ingest/invoke'\nFor more information check: https://httpstatuses.com/500 for Internal Server Error"
     ]
    }
   ],
   "source": [
    "from langserve.client import RemoteRunnable\n",
    "docs = [\n",
    "    # \"https://arxiv.org/pdf/2303.08774.pdf\",\n",
    "    \"./data.txt\"\n",
    "]\n",
    "\n",
    "\n",
    "# iterate through all documents, and query /ingest\n",
    "for doc in docs:\n",
    "    ingest_endpoint = RemoteRunnable(\"http://0.0.0.0:8000/ingest\")\n",
    "    ingest_endpoint.invoke(doc)"
   ]
  },
  {
   "cell_type": "code",
   "execution_count": 18,
   "id": "0da382a4",
   "metadata": {},
   "outputs": [],
   "source": [
    "from langserve.client import RemoteRunnable\n",
    "\n",
    "def ask(question):\n",
    "    chat_endpoint = RemoteRunnable(\"http://0.0.0.0:8000/chat\")\n",
    "\n",
    "\n",
    "    inputs = {\"question\": question}\n",
    "    result = chat_endpoint.invoke(inputs)\n",
    "\n",
    "    print(result)\n",
    "\n",
    "    # Question and Answer String Tuple pair\n",
    "    # qa = (question, result.content)\n",
    "\n",
    "    # update history\n",
    "    # chat_history.append(qa)\n"
   ]
  },
  {
   "cell_type": "code",
   "execution_count": 19,
   "id": "949760db",
   "metadata": {},
   "outputs": [
    {
     "ename": "HTTPStatusError",
     "evalue": "Server error '500 Internal Server Error' for url 'http://0.0.0.0:8000/chat/invoke'\nFor more information check: https://httpstatuses.com/500 for Internal Server Error",
     "output_type": "error",
     "traceback": [
      "\u001b[0;31m---------------------------------------------------------------------------\u001b[0m",
      "\u001b[0;31mHTTPStatusError\u001b[0m                           Traceback (most recent call last)",
      "File \u001b[0;32m~/ws/HW10/langchain/.mamba/envs/langchain/lib/python3.11/site-packages/langserve/client.py:96\u001b[0m, in \u001b[0;36m_raise_for_status\u001b[0;34m(response)\u001b[0m\n\u001b[1;32m     95\u001b[0m \u001b[39mtry\u001b[39;00m:\n\u001b[0;32m---> 96\u001b[0m     response\u001b[39m.\u001b[39;49mraise_for_status()\n\u001b[1;32m     97\u001b[0m \u001b[39mexcept\u001b[39;00m httpx\u001b[39m.\u001b[39mHTTPStatusError \u001b[39mas\u001b[39;00m e:\n",
      "File \u001b[0;32m~/ws/HW10/langchain/.mamba/envs/langchain/lib/python3.11/site-packages/httpx/_models.py:749\u001b[0m, in \u001b[0;36mResponse.raise_for_status\u001b[0;34m(self)\u001b[0m\n\u001b[1;32m    748\u001b[0m message \u001b[39m=\u001b[39m message\u001b[39m.\u001b[39mformat(\u001b[39mself\u001b[39m, error_type\u001b[39m=\u001b[39merror_type)\n\u001b[0;32m--> 749\u001b[0m \u001b[39mraise\u001b[39;00m HTTPStatusError(message, request\u001b[39m=\u001b[39mrequest, response\u001b[39m=\u001b[39m\u001b[39mself\u001b[39m)\n",
      "\u001b[0;31mHTTPStatusError\u001b[0m: Server error '500 Internal Server Error' for url 'http://0.0.0.0:8000/chat/invoke'\nFor more information check: https://httpstatuses.com/500",
      "\nDuring handling of the above exception, another exception occurred:\n",
      "\u001b[0;31mHTTPStatusError\u001b[0m                           Traceback (most recent call last)",
      "\u001b[1;32m/home/attackercow/ws/HW10/langchain/testing.ipynb Cell 4\u001b[0m line \u001b[0;36m2\n\u001b[1;32m      <a href='vscode-notebook-cell:/home/attackercow/ws/HW10/langchain/testing.ipynb#W4sZmlsZQ%3D%3D?line=0'>1</a>\u001b[0m \u001b[39m# TODO: we could \"prepopulate\" the chat history with MORE CONTEXT!\u001b[39;00m\n\u001b[0;32m----> <a href='vscode-notebook-cell:/home/attackercow/ws/HW10/langchain/testing.ipynb#W4sZmlsZQ%3D%3D?line=1'>2</a>\u001b[0m ask(\u001b[39m\"\u001b[39;49m\u001b[39mHow does agent memory work?\u001b[39;49m\u001b[39m\"\u001b[39;49m)\n",
      "\u001b[1;32m/home/attackercow/ws/HW10/langchain/testing.ipynb Cell 4\u001b[0m line \u001b[0;36m8\n\u001b[1;32m      <a href='vscode-notebook-cell:/home/attackercow/ws/HW10/langchain/testing.ipynb#W4sZmlsZQ%3D%3D?line=3'>4</a>\u001b[0m chat_endpoint \u001b[39m=\u001b[39m RemoteRunnable(\u001b[39m\"\u001b[39m\u001b[39mhttp://0.0.0.0:8000/chat\u001b[39m\u001b[39m\"\u001b[39m)\n\u001b[1;32m      <a href='vscode-notebook-cell:/home/attackercow/ws/HW10/langchain/testing.ipynb#W4sZmlsZQ%3D%3D?line=6'>7</a>\u001b[0m inputs \u001b[39m=\u001b[39m {\u001b[39m\"\u001b[39m\u001b[39mquestion\u001b[39m\u001b[39m\"\u001b[39m: question}\n\u001b[0;32m----> <a href='vscode-notebook-cell:/home/attackercow/ws/HW10/langchain/testing.ipynb#W4sZmlsZQ%3D%3D?line=7'>8</a>\u001b[0m result \u001b[39m=\u001b[39m chat_endpoint\u001b[39m.\u001b[39;49minvoke(inputs)\n\u001b[1;32m     <a href='vscode-notebook-cell:/home/attackercow/ws/HW10/langchain/testing.ipynb#W4sZmlsZQ%3D%3D?line=9'>10</a>\u001b[0m \u001b[39mprint\u001b[39m(result)\n",
      "File \u001b[0;32m~/ws/HW10/langchain/.mamba/envs/langchain/lib/python3.11/site-packages/langserve/client.py:294\u001b[0m, in \u001b[0;36mRemoteRunnable.invoke\u001b[0;34m(self, input, config, **kwargs)\u001b[0m\n\u001b[1;32m    292\u001b[0m \u001b[39mif\u001b[39;00m kwargs:\n\u001b[1;32m    293\u001b[0m     \u001b[39mraise\u001b[39;00m \u001b[39mNotImplementedError\u001b[39;00m(\u001b[39m\"\u001b[39m\u001b[39mkwargs not implemented yet.\u001b[39m\u001b[39m\"\u001b[39m)\n\u001b[0;32m--> 294\u001b[0m \u001b[39mreturn\u001b[39;00m \u001b[39mself\u001b[39;49m\u001b[39m.\u001b[39;49m_call_with_config(\u001b[39mself\u001b[39;49m\u001b[39m.\u001b[39;49m_invoke, \u001b[39minput\u001b[39;49m, config\u001b[39m=\u001b[39;49mconfig)\n",
      "File \u001b[0;32m~/ws/HW10/langchain/.mamba/envs/langchain/lib/python3.11/site-packages/langchain/schema/runnable/base.py:847\u001b[0m, in \u001b[0;36mRunnable._call_with_config\u001b[0;34m(self, func, input, config, run_type, **kwargs)\u001b[0m\n\u001b[1;32m    840\u001b[0m run_manager \u001b[39m=\u001b[39m callback_manager\u001b[39m.\u001b[39mon_chain_start(\n\u001b[1;32m    841\u001b[0m     dumpd(\u001b[39mself\u001b[39m),\n\u001b[1;32m    842\u001b[0m     \u001b[39minput\u001b[39m,\n\u001b[1;32m    843\u001b[0m     run_type\u001b[39m=\u001b[39mrun_type,\n\u001b[1;32m    844\u001b[0m     name\u001b[39m=\u001b[39mconfig\u001b[39m.\u001b[39mget(\u001b[39m\"\u001b[39m\u001b[39mrun_name\u001b[39m\u001b[39m\"\u001b[39m),\n\u001b[1;32m    845\u001b[0m )\n\u001b[1;32m    846\u001b[0m \u001b[39mtry\u001b[39;00m:\n\u001b[0;32m--> 847\u001b[0m     output \u001b[39m=\u001b[39m call_func_with_variable_args(\n\u001b[1;32m    848\u001b[0m         func, \u001b[39minput\u001b[39;49m, config, run_manager, \u001b[39m*\u001b[39;49m\u001b[39m*\u001b[39;49mkwargs\n\u001b[1;32m    849\u001b[0m     )\n\u001b[1;32m    850\u001b[0m \u001b[39mexcept\u001b[39;00m \u001b[39mBaseException\u001b[39;00m \u001b[39mas\u001b[39;00m e:\n\u001b[1;32m    851\u001b[0m     run_manager\u001b[39m.\u001b[39mon_chain_error(e)\n",
      "File \u001b[0;32m~/ws/HW10/langchain/.mamba/envs/langchain/lib/python3.11/site-packages/langchain/schema/runnable/config.py:308\u001b[0m, in \u001b[0;36mcall_func_with_variable_args\u001b[0;34m(func, input, config, run_manager, **kwargs)\u001b[0m\n\u001b[1;32m    306\u001b[0m \u001b[39mif\u001b[39;00m run_manager \u001b[39mis\u001b[39;00m \u001b[39mnot\u001b[39;00m \u001b[39mNone\u001b[39;00m \u001b[39mand\u001b[39;00m accepts_run_manager(func):\n\u001b[1;32m    307\u001b[0m     kwargs[\u001b[39m\"\u001b[39m\u001b[39mrun_manager\u001b[39m\u001b[39m\"\u001b[39m] \u001b[39m=\u001b[39m run_manager\n\u001b[0;32m--> 308\u001b[0m \u001b[39mreturn\u001b[39;00m func(\u001b[39minput\u001b[39;49m, \u001b[39m*\u001b[39;49m\u001b[39m*\u001b[39;49mkwargs)\n",
      "File \u001b[0;32m~/ws/HW10/langchain/.mamba/envs/langchain/lib/python3.11/site-packages/langserve/client.py:281\u001b[0m, in \u001b[0;36mRemoteRunnable._invoke\u001b[0;34m(self, input, run_manager, config, **kwargs)\u001b[0m\n\u001b[1;32m    272\u001b[0m \u001b[39m\u001b[39m\u001b[39m\"\"\"Invoke the runnable with the given input and config.\"\"\"\u001b[39;00m\n\u001b[1;32m    273\u001b[0m response \u001b[39m=\u001b[39m \u001b[39mself\u001b[39m\u001b[39m.\u001b[39msync_client\u001b[39m.\u001b[39mpost(\n\u001b[1;32m    274\u001b[0m     \u001b[39m\"\u001b[39m\u001b[39m/invoke\u001b[39m\u001b[39m\"\u001b[39m,\n\u001b[1;32m    275\u001b[0m     json\u001b[39m=\u001b[39m{\n\u001b[0;32m   (...)\u001b[0m\n\u001b[1;32m    279\u001b[0m     },\n\u001b[1;32m    280\u001b[0m )\n\u001b[0;32m--> 281\u001b[0m output, callback_events \u001b[39m=\u001b[39m _decode_response(\n\u001b[1;32m    282\u001b[0m     \u001b[39mself\u001b[39;49m\u001b[39m.\u001b[39;49m_lc_serializer, response, is_batch\u001b[39m=\u001b[39;49m\u001b[39mFalse\u001b[39;49;00m\n\u001b[1;32m    283\u001b[0m )\n\u001b[1;32m    285\u001b[0m \u001b[39mif\u001b[39;00m \u001b[39mself\u001b[39m\u001b[39m.\u001b[39m_use_server_callback_events \u001b[39mand\u001b[39;00m callback_events:\n\u001b[1;32m    286\u001b[0m     handle_callbacks(run_manager, callback_events)\n",
      "File \u001b[0;32m~/ws/HW10/langchain/.mamba/envs/langchain/lib/python3.11/site-packages/langserve/client.py:169\u001b[0m, in \u001b[0;36m_decode_response\u001b[0;34m(serializer, response, is_batch)\u001b[0m\n\u001b[1;32m    162\u001b[0m \u001b[39mdef\u001b[39;00m \u001b[39m_decode_response\u001b[39m(\n\u001b[1;32m    163\u001b[0m     serializer: Serializer,\n\u001b[1;32m    164\u001b[0m     response: httpx\u001b[39m.\u001b[39mResponse,\n\u001b[1;32m    165\u001b[0m     \u001b[39m*\u001b[39m,\n\u001b[1;32m    166\u001b[0m     is_batch: \u001b[39mbool\u001b[39m \u001b[39m=\u001b[39m \u001b[39mFalse\u001b[39;00m,\n\u001b[1;32m    167\u001b[0m ) \u001b[39m-\u001b[39m\u001b[39m>\u001b[39m Tuple[Any, Union[List[CallbackEventDict], List[List[CallbackEventDict]]]]:\n\u001b[1;32m    168\u001b[0m \u001b[39m    \u001b[39m\u001b[39m\"\"\"Decode the response.\"\"\"\u001b[39;00m\n\u001b[0;32m--> 169\u001b[0m     _raise_for_status(response)\n\u001b[1;32m    170\u001b[0m     obj \u001b[39m=\u001b[39m response\u001b[39m.\u001b[39mjson()\n\u001b[1;32m    171\u001b[0m     \u001b[39mif\u001b[39;00m \u001b[39mnot\u001b[39;00m \u001b[39misinstance\u001b[39m(obj, \u001b[39mdict\u001b[39m):\n",
      "File \u001b[0;32m~/ws/HW10/langchain/.mamba/envs/langchain/lib/python3.11/site-packages/langserve/client.py:104\u001b[0m, in \u001b[0;36m_raise_for_status\u001b[0;34m(response)\u001b[0m\n\u001b[1;32m    101\u001b[0m \u001b[39mif\u001b[39;00m e\u001b[39m.\u001b[39mresponse\u001b[39m.\u001b[39mtext:\n\u001b[1;32m    102\u001b[0m     message \u001b[39m+\u001b[39m\u001b[39m=\u001b[39m \u001b[39mf\u001b[39m\u001b[39m\"\u001b[39m\u001b[39m for \u001b[39m\u001b[39m{\u001b[39;00me\u001b[39m.\u001b[39mresponse\u001b[39m.\u001b[39mtext\u001b[39m}\u001b[39;00m\u001b[39m\"\u001b[39m\n\u001b[0;32m--> 104\u001b[0m \u001b[39mraise\u001b[39;00m httpx\u001b[39m.\u001b[39mHTTPStatusError(\n\u001b[1;32m    105\u001b[0m     message\u001b[39m=\u001b[39mmessage,\n\u001b[1;32m    106\u001b[0m     request\u001b[39m=\u001b[39m_sanitize_request(e\u001b[39m.\u001b[39mrequest),\n\u001b[1;32m    107\u001b[0m     response\u001b[39m=\u001b[39me\u001b[39m.\u001b[39mresponse,\n\u001b[1;32m    108\u001b[0m )\n",
      "\u001b[0;31mHTTPStatusError\u001b[0m: Server error '500 Internal Server Error' for url 'http://0.0.0.0:8000/chat/invoke'\nFor more information check: https://httpstatuses.com/500 for Internal Server Error"
     ]
    }
   ],
   "source": [
    "# TODO: we could \"prepopulate\" the chat history with MORE CONTEXT!\n",
    "ask(\"How does agent memory work?\")"
   ]
  }
 ],
 "metadata": {
  "kernelspec": {
   "display_name": "Python 3 (ipykernel)",
   "language": "python",
   "name": "python3"
  },
  "language_info": {
   "codemirror_mode": {
    "name": "ipython",
    "version": 3
   },
   "file_extension": ".py",
   "mimetype": "text/x-python",
   "name": "python",
   "nbconvert_exporter": "python",
   "pygments_lexer": "ipython3",
   "version": "3.11.6"
  }
 },
 "nbformat": 4,
 "nbformat_minor": 5
}
