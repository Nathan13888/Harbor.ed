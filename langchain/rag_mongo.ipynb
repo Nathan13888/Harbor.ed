{
 "cells": [
  {
   "attachments": {},
   "cell_type": "markdown",
   "id": "681a5d1e",
   "metadata": {},
   "source": [
    "pwd\n",
    "source ./setup-exports.sh"
   ]
  },
  {
   "cell_type": "code",
   "execution_count": null,
   "id": "c1d3192f",
   "metadata": {},
   "outputs": [],
   "source": [
    "import os\n",
    "\n",
    "from langchain.document_loaders import PyPDFLoader\n",
    "from langchain.embeddings import CohereEmbeddings\n",
    "from langchain.text_splitter import RecursiveCharacterTextSplitter\n",
    "from langchain.vectorstores import MongoDBAtlasVectorSearch\n",
    "from pymongo import MongoClient\n",
    "\n",
    "# Load environment variables\n",
    "from dotenv import load_dotenv\n",
    "\n",
    "MONGO_URI = os.environ.get(\"MONGO_URI\")\n",
    "COHERE_API_KEY = os.environ.get(\"COHERE_API_KEY\")\n",
    "\n",
    "DB_NAME = os.environ.get(\"DB_NAME\")\n",
    "COLLECTION_NAME = os.environ.get(\"COLLECTION_NAME\")\n",
    "ATLAS_VECTOR_SEARCH_INDEX_NAME = \"default\"\n",
    "EMBEDDING_FIELD_NAME = \"embedding\"\n",
    "client = MongoClient(MONGO_URI)\n",
    "db = client[DB_NAME]\n",
    "MONGODB_COLLECTION = db[COLLECTION_NAME]\n",
    "\n",
    "if __name__ == \"__main__\":\n",
    "    # Load docs\n",
    "    loader = PyPDFLoader(\"https://arxiv.org/pdf/2303.08774.pdf\")\n",
    "    data = loader.load()\n",
    "\n",
    "    # Split docs\n",
    "    print(\"Splitting documents\")\n",
    "    text_splitter = RecursiveCharacterTextSplitter(chunk_size=500, chunk_overlap=0)\n",
    "    docs = text_splitter.split_documents(data)\n",
    "\n",
    "    # Insert the documents in MongoDB Atlas Vector Search\n",
    "    print(\"Inserting documents in MongoDB Atlas Vector Search\")\n",
    "    _ = MongoDBAtlasVectorSearch.from_documents(\n",
    "        documents=docs,\n",
    "        embedding=CohereEmbeddings(cohere_api_key=COHERE_API_KEY),\n",
    "        collection=MONGODB_COLLECTION,\n",
    "        index_name=ATLAS_VECTOR_SEARCH_INDEX_NAME,\n",
    "    )\n"
   ]
  },
  {
   "cell_type": "code",
   "execution_count": null,
   "id": "d774be2a",
   "metadata": {},
   "outputs": [],
   "source": [
    "from langserve.client import RemoteRunnable\n",
    "\n",
    "rag_app_pinecone = RemoteRunnable(\"http://0.0.0.0:8000/endpoint\")\n",
    "rag_app_pinecone.invoke(\"How does agent memory work?\")"
   ]
  }
 ],
 "metadata": {
  "kernelspec": {
   "display_name": "Python 3 (ipykernel)",
   "language": "python",
   "name": "python3"
  },
  "language_info": {
   "codemirror_mode": {
    "name": "ipython",
    "version": 3
   },
   "file_extension": ".py",
   "mimetype": "text/x-python",
   "name": "python",
   "nbconvert_exporter": "python",
   "pygments_lexer": "ipython3",
   "version": "3.9.18"
  }
 },
 "nbformat": 4,
 "nbformat_minor": 5
}
